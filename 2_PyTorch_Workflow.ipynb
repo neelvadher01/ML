{
 "cells": [
  {
   "cell_type": "code",
   "execution_count": 1,
   "id": "8fd344b4",
   "metadata": {},
   "outputs": [
    {
     "data": {
      "text/plain": [
       "{1: 'data (prepare and load)',\n",
       " 2: 'Build model',\n",
       " 3: 'fitting the model to data (training)',\n",
       " 4: 'making predictions and evaluating a model (inference)',\n",
       " 5: 'saving and loading a model',\n",
       " 6: 'putting it all together'}"
      ]
     },
     "execution_count": 1,
     "metadata": {},
     "output_type": "execute_result"
    }
   ],
   "source": [
    "what_were_covering={1:\"data (prepare and load)\",\n",
    "                    2: \"Build model\",\n",
    "                    3: \"fitting the model to data (training)\",\n",
    "                    4: \"making predictions and evaluating a model (inference)\",\n",
    "                    5: \"saving and loading a model\",\n",
    "                    6: \"putting it all together\"\n",
    "                    }\n",
    "what_were_covering"
   ]
  },
  {
   "cell_type": "code",
   "execution_count": 1,
   "id": "89947180",
   "metadata": {},
   "outputs": [
    {
     "data": {
      "text/plain": [
       "'2.5.1+cu121'"
      ]
     },
     "execution_count": 1,
     "metadata": {},
     "output_type": "execute_result"
    }
   ],
   "source": [
    "import torch\n",
    "from torch import nn #nn contains all the PyTorch's building blocks for neural networking\n",
    "import matplotlib.pyplot as plt\n",
    "torch.__version__\n"
   ]
  },
  {
   "cell_type": "markdown",
   "id": "898288fb",
   "metadata": {},
   "source": [
    "## 1. Data (Preparing and Loading)\n",
    "Machine learning is a game of 2 parts:\n",
    "1. Get data into a numerical representation.\n",
    "2. Build a model to learn patterns in that numerical representation.\n",
    "\n",
    "![Screenshot2025-09-07011615.png](img\\Screenshot2025-09-07011615.png)\n",
    "\n",
    "![Screenshot2025-09-12040025.png](img\\Screenshot2025-09-12040025.png)"
   ]
  },
  {
   "cell_type": "markdown",
   "id": "6eb0b892",
   "metadata": {},
   "source": [
    "To showcase this, let's create some *known* data using the linear regression formula: ![Screenshot2025-09-12041658.png](img\\Screenshot2025-09-12041658.png)\n",
    "\n",
    "**where:**\n",
    "* `y = independent variable.`\n",
    "* `b = slope = rate of predicted increase/decrease for 'y' scores for each unit increase in 'x'.`\n",
    "* `a = 'y'-intercept = level of 'y' when 'x=0'`     \n",
    "\n",
    "We'll use a linear regression formula to make a straight line with *known* **parameters**."
   ]
  },
  {
   "cell_type": "code",
   "execution_count": 12,
   "id": "68c333c7",
   "metadata": {},
   "outputs": [
    {
     "name": "stdout",
     "output_type": "stream",
     "text": [
      "tensor([[0.0000],\n",
      "        [0.0200],\n",
      "        [0.0400],\n",
      "        [0.0600],\n",
      "        [0.0800],\n",
      "        [0.1000],\n",
      "        [0.1200],\n",
      "        [0.1400],\n",
      "        [0.1600],\n",
      "        [0.1800]]) \n",
      " tensor([[0.3000],\n",
      "        [0.3140],\n",
      "        [0.3280],\n",
      "        [0.3420],\n",
      "        [0.3560],\n",
      "        [0.3700],\n",
      "        [0.3840],\n",
      "        [0.3980],\n",
      "        [0.4120],\n",
      "        [0.4260]]) \n",
      " 50 50\n"
     ]
    }
   ],
   "source": [
    "#Create *known* parameters\n",
    "#linear regression formula is similar as equation of line i.e. y=bx+a.\n",
    "weight=0.7 #b\n",
    "bias=0.3 #a\n",
    "X=torch.arange(0,1,0.02).unsqueeze(dim=1)\n",
    "y=weight*X+bias\n",
    "print(X[:10],\"\\n\",y[:10],\"\\n\",len(X),len(y))"
   ]
  },
  {
   "cell_type": "markdown",
   "id": "4f83636a",
   "metadata": {},
   "source": [
    "### Splitting data into training and test sets (one of the most importent concept in ML in general)\n",
    "3 Datasets:\n",
    "1. Training set --> like Course materials <== **Used Always**\n",
    "2. Validation set --> like Practice exam <== **Often but Not Always**\n",
    "3. Test set --> like Final exam <== **Used Always**\n",
    "\n",
    "### Model learn pattern from here:\n",
    "* `training set`(~60-80% of data) --> `validation set`(~10-20% of data) --> `test set`(~10-20% of data)"
   ]
  },
  {
   "cell_type": "code",
   "execution_count": 22,
   "id": "87c5cff7",
   "metadata": {},
   "outputs": [
    {
     "name": "stdout",
     "output_type": "stream",
     "text": [
      "No. of samples(80% of the training set): 40\n",
      "40 40 10 10\n"
     ]
    }
   ],
   "source": [
    "#Create a train/test split\n",
    "train_split = int(0.8*len(X))\n",
    "print(f\"No. of samples(80% of the training set): {train_split}\")\n",
    "X_train, y_train = X[:train_split], y[:train_split] #head samples\n",
    "X_test, y_test = X[train_split:], y[train_split:] #onward samples\n",
    "print(len(X_train), len(y_train), len(X_test), len(y_test))"
   ]
  }
 ],
 "metadata": {
  "kernelspec": {
   "display_name": "Python 3",
   "language": "python",
   "name": "python3"
  },
  "language_info": {
   "codemirror_mode": {
    "name": "ipython",
    "version": 3
   },
   "file_extension": ".py",
   "mimetype": "text/x-python",
   "name": "python",
   "nbconvert_exporter": "python",
   "pygments_lexer": "ipython3",
   "version": "3.11.3"
  }
 },
 "nbformat": 4,
 "nbformat_minor": 5
}
